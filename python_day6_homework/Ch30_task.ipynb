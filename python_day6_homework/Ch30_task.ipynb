{
 "cells": [
  {
   "cell_type": "markdown",
   "metadata": {},
   "source": [
    "\n",
    "팩토리얼을 계산하는 재귀 함수 factorial을 작성하세요."
   ]
  },
  {
   "cell_type": "code",
   "execution_count": null,
   "metadata": {},
   "outputs": [
    {
     "name": "stdout",
     "output_type": "stream",
     "text": [
      "4 factorial: 24\n"
     ]
    }
   ],
   "source": [
    "# memo는 바깥에서 정의 (dict)\n",
    "memo = {}\n",
    "\n",
    "def factorial(n):\n",
    "    # memo에 있을 경우 \n",
    "    if n in memo:\n",
    "        return memo[n]\n",
    "\n",
    "    # 재귀로 계산, 그 값을 memo에 저장\n",
    "    if n == 0:\n",
    "        return 1\n",
    "    \n",
    "    output = n * factorial(n - 1)\n",
    "    memo[n] = output\n",
    "    return output\n",
    "\n",
    "n = int(input(\"n: \"))\n",
    "print(f'{n} factorial: {factorial(n)}')"
   ]
  }
 ],
 "metadata": {
  "kernelspec": {
   "display_name": "Python 3",
   "language": "python",
   "name": "python3"
  },
  "language_info": {
   "codemirror_mode": {
    "name": "ipython",
    "version": 3
   },
   "file_extension": ".py",
   "mimetype": "text/x-python",
   "name": "python",
   "nbconvert_exporter": "python",
   "pygments_lexer": "ipython3",
   "version": "3.9.6"
  }
 },
 "nbformat": 4,
 "nbformat_minor": 2
}
