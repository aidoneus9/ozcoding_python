{
 "cells": [
  {
   "cell_type": "markdown",
   "metadata": {},
   "source": [
    "문자열 리스트를 받아, 각 문자열의 길이를 출력하는 함수 print_lengths를 작성하세요."
   ]
  },
  {
   "cell_type": "markdown",
   "metadata": {},
   "source": []
  },
  {
   "cell_type": "code",
   "execution_count": 8,
   "metadata": {},
   "outputs": [
    {
     "name": "stdout",
     "output_type": "stream",
     "text": [
      "'harry potter'의 길이: 12\n",
      "'tom marvolo riddle'의 길이: 18\n",
      "'cedric digory'의 길이: 13\n"
     ]
    }
   ],
   "source": [
    "def print_lengths():\n",
    "    str_list = input(\"Enter several strings separated by space: \").split(\",\") # 쉼표로 구분하는 이유는 여러 단어가 한 문자열에 포함될 수 있기 때문\n",
    "    \n",
    "    for string in str_list:\n",
    "        print(f\"'{string.strip()}'의 길이: {len(string.strip())}\") # strip()으로 문자열의 양 옆 공백을 없앰 \n",
    "\n",
    "print_lengths()"
   ]
  }
 ],
 "metadata": {
  "kernelspec": {
   "display_name": "Python 3",
   "language": "python",
   "name": "python3"
  },
  "language_info": {
   "codemirror_mode": {
    "name": "ipython",
    "version": 3
   },
   "file_extension": ".py",
   "mimetype": "text/x-python",
   "name": "python",
   "nbconvert_exporter": "python",
   "pygments_lexer": "ipython3",
   "version": "3.9.6"
  }
 },
 "nbformat": 4,
 "nbformat_minor": 2
}
