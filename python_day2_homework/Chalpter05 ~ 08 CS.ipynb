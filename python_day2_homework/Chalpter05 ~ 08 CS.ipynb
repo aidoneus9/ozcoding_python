{
 "cells": [
  {
   "cell_type": "markdown",
   "metadata": {
    "id": "WXEwMsfUct7U"
   },
   "source": [
    "컴퓨터 기초 지식을 의미하는 CS(Computer science)는<br>\n",
    "코딩 테스트와 함께 기술 면접에서 지원자에게 필수적으로 요구합니다.<br>\n",
    "\n",
    "수업 내용 중 기술 면접에 자주 나오는 질문 3가지와 기본적으로 알아야 할 내용 과제로 선정했습니다.<br>\n",
    "\n",
    "관련 내용에 대해서는 구글링 또는 관련 서적을 통해 상세히 공부하시고<br>\n",
    "답변은 최대한 핵심만 담아 간결하게 작성해주세요<br>\n",
    "\n",
    "기술 블로그를 운영 중이신 경우<br>\n",
    "답변 내용을 기술 블로그에 작성하신 후 링크를 답변에 남겨주셔도 됩니다.<br>"
   ]
  },
  {
   "cell_type": "markdown",
   "metadata": {
    "id": "qoyC9wF-3hvs"
   },
   "source": [
    "-----"
   ]
  },
  {
   "cell_type": "markdown",
   "metadata": {
    "id": "rAD_O3Gmc_43"
   },
   "source": [
    "[문제1]\n",
    "\n",
    "Python의 변수 할당 개념을 다른 언어와 비교해 설명해주세요\n"
   ]
  },
  {
   "cell_type": "markdown",
   "metadata": {},
   "source": [
    "Python은 동적 타이핑(Dynamic Typing)을 사용하여 변수를 선언할 때 타입을 명시할 필요 없이 값을 할당할 수 있다. 변수의 타입은 코드 실행 중에 자동으로 결정된다. 예를 들어, x = 10과 같이 변수에 값을 할당하면 x의 값은 정수형으로 자동 결정된다.\n",
    "\n",
    "반면, Java와 C++는 정적 타이핑(Static Typing)을 사용하여 변수를 선언할 때 타입을 반드시 명시해야 하며, 한 번 선언된 변수의 타입은 변경할 수 없다. 예를 들어, Java에서 int x = 1;과 같이 변수 타입을 명시하였다면 그 이후에는 이 타입을 변경할 수 없다.   \n",
    "\n",
    "한편 JavaScript와 Ruby는 Python처럼 동적 타이핑을 사용하여, 변수 타입을 명시하지 않고 값을 할당할 수 있다. Swift의 경우 정적 타이핑을 사용하지만, 타입 추론(Type Inference)을 통해 변수 선언 시 타입을 생략할 수 있다. 즉, var x = 10과 같이 선언하면 Swift가 자동으로 변수 x의 타입을 추론, 정수형으로 결정된다. 이처럼 정적 타이핑을 사용하면서도 유연하게 타입을 처리할 수 있다는 특징이 있다. "
   ]
  },
  {
   "cell_type": "markdown",
   "metadata": {},
   "source": [
    "---"
   ]
  },
  {
   "cell_type": "markdown",
   "metadata": {
    "id": "3uK_auXYdgk2"
   },
   "source": [
    "[문제2]\n",
    "\n",
    "Python의 실수형(float) 계산 시 오차가 발생하는 이유에 대해 간단히 설명해 주세요"
   ]
  },
  {
   "cell_type": "markdown",
   "metadata": {},
   "source": [
    "Python의 실수형(float) 계산 시 오차가 발생하는 이유는 부동소수점 계산의 한계 때문이다.   \n",
    "\n",
    "첫째, **이진수로 표현이 불가**하다. 컴퓨터는 실수를 이진수(0, 1)로 저장하는데, 10진수 실수는 정확히 이진수로 표현할 수 없는 경우가 많다. 예를 들어, 0.1은 이진수로 정확히 표현되지 않는다. 0.1을 이진수로 표현하면 무한히 반복되는 소수 부분이 생기는데, 컴퓨터에서는 이를 근사값으로 저장하게 된다.  \n",
    "\n",
    "둘째, **비트가 유한**하다. 컴퓨터는 유한한 비트 수로 숫자를 저장한다. 부동소수점 숫자도 일정한 비트 수로 저장되기 때문에, 아주 작은 차이나 반복되는 부분을 모두 저장할 수 없고, 근사값을 사용하게 된다. 이로 인해 계산 시 작은 오차가 발생할 수 있다. "
   ]
  },
  {
   "cell_type": "markdown",
   "metadata": {},
   "source": [
    "----"
   ]
  },
  {
   "cell_type": "markdown",
   "metadata": {
    "id": "2Jte2VLKdiPm"
   },
   "source": [
    "[문제3]\n",
    "\n",
    "슬라이싱에 대해 간단히 설명해주세요"
   ]
  },
  {
   "cell_type": "markdown",
   "metadata": {},
   "source": [
    "슬라이싱(Slicing)은 Python에서 리스트, 문자열, 튜플 등 순차 자료형에서 원하는 부분을 추출하는 방법이다. 슬라이싱을 사용하면 시퀀스의 일부를 쉽게 선택할 수 있다. 기본 문법은 **sequence[start:end:step]** 형식으로, start는 추출을 시작할 인덱스, end는 추출을 끝낼 인덱스를 의미한다. 이때, start는 포함되지만 end는 포함되지 않는다. step은 인덱스를 몇 칸씩 건너뛸지 지정하는데 이는 선택 사항이다. 또한 start와 end의 값을 음수로 지정할 수도 있는데, 음수 인덱스를 사용하면 뒤에서부터 계산된다. \n"
   ]
  }
 ],
 "metadata": {
  "colab": {
   "authorship_tag": "ABX9TyP7YKA5FdtGggYfD74V7SMJ",
   "provenance": []
  },
  "kernelspec": {
   "display_name": "Python 3",
   "name": "python3"
  },
  "language_info": {
   "name": "python"
  }
 },
 "nbformat": 4,
 "nbformat_minor": 0
}
