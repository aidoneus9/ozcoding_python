{
 "cells": [
  {
   "cell_type": "markdown",
   "metadata": {
    "id": "WXEwMsfUct7U"
   },
   "source": [
    "컴퓨터 기초 지식을 의미하는 CS(Computer science)는<br>\n",
    "코딩 테스트와 함께 기술 면접에서 지원자에게 필수적으로 요구합니다.<br>\n",
    "\n",
    "수업 내용 중 기술 면접에 자주 나오는 질문 3가지와 기본적으로 알아야 할 내용 과제로 선정했습니다.<br>\n",
    "\n",
    "관련 내용에 대해서는 구글링 또는 관련 서적을 통해 상세히 공부하시고<br>\n",
    "답변은 최대한 핵심만 담아 간결하게 작성해주세요<br>\n",
    "\n",
    "기술 블로그를 운영 중이신 경우<br>\n",
    "답변 내용을 기술 블로그에 작성하신 후 링크를 답변에 남겨주셔도 됩니다.<br>"
   ]
  },
  {
   "cell_type": "markdown",
   "metadata": {
    "id": "qoyC9wF-3hvs"
   },
   "source": [
    "-----"
   ]
  },
  {
   "cell_type": "markdown",
   "metadata": {
    "id": "rAD_O3Gmc_43"
   },
   "source": [
    "[문제1]\n",
    "\n",
    "list와 tuple의 주된 차이점은 무엇인가요?"
   ]
  },
  {
   "cell_type": "markdown",
   "metadata": {},
   "source": [
    "list는 가변 자료형으로, 요소를 추가, 삭제, 변경할 수 있다. 반면에 tuple은 불변 자료형으로, 한 번 생성된 후에는 요소를 변경할 수 없기 때문에 자료의 추가, 삭제, 변경이 불가하다. "
   ]
  },
  {
   "cell_type": "markdown",
   "metadata": {},
   "source": [
    "---"
   ]
  },
  {
   "cell_type": "markdown",
   "metadata": {
    "id": "3uK_auXYdgk2"
   },
   "source": [
    "[문제2]\n",
    "\n",
    "Python의 set에 대해 설명해주세요"
   ]
  },
  {
   "cell_type": "markdown",
   "metadata": {},
   "source": [
    "set은 중복되지 않는 유일한 값을 저장하는 자료형으로, 주요 특징은 다음과 같다.  \n",
    "첫째, 같은 값이 여러 번 들어가면 하나만 남고 나머지는 자동으로 제거되어 중복을 허용하지 않는다.  \n",
    "둘째, 순서가 없기 때문에 인덱스를 사용하여 접근할 수 없다.  \n",
    "셋째, 가변 자료형으로 요소를 추가하거나 제거할 수 있다. 그러나 변경은 할 수 없다.  \n",
    "넷째, 해시 테이블을 기반으로 구현되어 검색 속도가 빠르다는 장점이 있다.   "
   ]
  },
  {
   "cell_type": "markdown",
   "metadata": {},
   "source": [
    "---"
   ]
  },
  {
   "cell_type": "markdown",
   "metadata": {},
   "source": [
    "[문제3]\n",
    "\n",
    "Python의 list는 연결리스트(linked list)인가요?"
   ]
  },
  {
   "cell_type": "markdown",
   "metadata": {},
   "source": [
    "그렇지 않다. Python의 list는 배열을 기반으로 구현되어 있다. 연결리스트는 각 요소가 다음 요소에 대한 포인터를 가지고 있으며, 메모리 상에서 연속적이지 않게 저장된다. 그러나 배열의 경우 요소들이 연속된 메모리 블록에 저장되어, 인덱스로 빠르게 접근할 수 있다. \n",
    "Python의 list는 연속된 메모리 공간에 데이터를 저장하는 배열 방식으로 동작하여, 연결리스트와는 다른 구조를 가진다. 이러한 점으로 인해 슬라이싱이 빠르고, 항목의 삽입과 삭제를 리스트 중간에 하게 되는 경우에는 상대적으로 느릴 수 있다. "
   ]
  },
  {
   "cell_type": "markdown",
   "metadata": {},
   "source": [
    "---"
   ]
  },
  {
   "cell_type": "markdown",
   "metadata": {},
   "source": [
    "\n",
    "[문제4]\n",
    "\n",
    "딕셔너리 자료형에 대해 설명해주세요."
   ]
  },
  {
   "cell_type": "markdown",
   "metadata": {},
   "source": [
    "딕셔너리는 키(key)와 값(value) 쌍으로 데이터를 저장하는 자료형이다. 중괄호 {}를 사용하여 정의하며, 각 키는 고유하고 중복될 수 없다. 주요 특징은 다음과 같다.  \n",
    "첫째, 순서가 없기 때문에 인덱스 번호로 접근할 수 없다.   \n",
    "둘째, 각 항목은 키와 값으로 구성된다.  \n",
    "셋째, 가변 자료형으로, 새로운 키-값 쌍을 추가하거나 변경, 삭제할 수 있다.   \n",
    "넷째, 키는 변경 불가능한 자료형이어야 하며, 중복된 키는 허용되지 않는다.   "
   ]
  },
  {
   "cell_type": "markdown",
   "metadata": {},
   "source": [
    "---"
   ]
  }
 ],
 "metadata": {
  "colab": {
   "authorship_tag": "ABX9TyP7YKA5FdtGggYfD74V7SMJ",
   "provenance": []
  },
  "kernelspec": {
   "display_name": "Python 3",
   "name": "python3"
  },
  "language_info": {
   "name": "python"
  }
 },
 "nbformat": 4,
 "nbformat_minor": 0
}
