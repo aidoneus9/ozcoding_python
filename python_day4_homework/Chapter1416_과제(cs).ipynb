{
 "cells": [
  {
   "cell_type": "markdown",
   "metadata": {
    "id": "WXEwMsfUct7U"
   },
   "source": [
    "컴퓨터 기초 지식을 의미하는 CS(Computer science)는<br>\n",
    "코딩 테스트와 함께 기술 면접에서 지원자에게 필수적으로 요구합니다.<br>\n",
    "\n",
    "수업 내용 중 기술 면접에 자주 나오는 질문 3가지와 기본적으로 알아야 할 내용 과제로 선정했습니다.<br>\n",
    "\n",
    "관련 내용에 대해서는 구글링 또는 관련 서적을 통해 상세히 공부하시고<br>\n",
    "답변은 최대한 핵심만 담아 간결하게 작성해주세요<br>\n",
    "\n",
    "기술 블로그를 운영 중이신 경우<br>\n",
    "답변 내용을 기술 블로그에 작성하신 후 링크를 답변에 남겨주셔도 됩니다.<br>"
   ]
  },
  {
   "cell_type": "markdown",
   "metadata": {
    "id": "qoyC9wF-3hvs"
   },
   "source": [
    "-----"
   ]
  },
  {
   "cell_type": "markdown",
   "metadata": {
    "id": "rAD_O3Gmc_43"
   },
   "source": [
    "[문제1]\n",
    "\n",
    "파이썬 2.7 버전과 파이썬 3에서 range 차이를 설명해주세요"
   ]
  },
  {
   "cell_type": "markdown",
   "metadata": {},
   "source": [
    "파이썬 2.7에서는 range가 리스트를 반환하여, 반복할 범위의 모든 값을 한 번에 메모리에 저장하여, 이로 인해 큰 범위에서는 메모리 사용량이 많아질 수 있다는 단점이 있었다. 그러나 파이썬 3에서는 range가 반복 가능한 객체를 반환하여, 값을 필요할 때마다 계산하여 메모리 효율이 높아졌다. 파이썬 2.7에 비해 메모리 사용과 속도 면에서 더 효율적이라고 할 수 있다. 대신 range를 리스트로 반환하려면 list()함수를 사용해야 한다. "
   ]
  },
  {
   "cell_type": "markdown",
   "metadata": {},
   "source": [
    "---"
   ]
  },
  {
   "cell_type": "markdown",
   "metadata": {
    "id": "3uK_auXYdgk2"
   },
   "source": [
    "[문제2]\n",
    "\n",
    "Python의 얕은 복사와 깊은 복사에 대해서 설명하세요"
   ]
  },
  {
   "cell_type": "markdown",
   "metadata": {},
   "source": [
    "파이썬에서 얕은 복사는 객체의 최상위 수준만 복사하는 방식으로, 원본 객체의 참조만 복사하여 내부 객체는 그대로 참조한다. 반면, 깊은 복사는 객체와 그 안의 모든 중첩된 객체들가지 모두 새로 복사하는 방식이다. 얕은 복사는 copy() 또는 copy.copy()로 수행되고, 깊은 복사는 copy.deepcopy()로 수행된다. 얕은 복사의 경우, 원본 객체와 복사된 객체가 내부 개게를 공유하기 때문에 한 객체에서 변경이 일어나면 다른 객체에도 영향을 미치지만, 깊은 복사는 모든 객체가 독립적으로 복사되어 서로 영향을 미치지 않는다. "
   ]
  }
 ],
 "metadata": {
  "colab": {
   "authorship_tag": "ABX9TyP7YKA5FdtGggYfD74V7SMJ",
   "provenance": []
  },
  "kernelspec": {
   "display_name": "Python 3",
   "name": "python3"
  },
  "language_info": {
   "name": "python"
  }
 },
 "nbformat": 4,
 "nbformat_minor": 0
}
