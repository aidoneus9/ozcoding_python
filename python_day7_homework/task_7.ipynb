{
 "cells": [
  {
   "cell_type": "markdown",
   "metadata": {},
   "source": [
    "함수 실행 시간을 측정하는 데코레이터 timer_decorator를 작성하세요. \n",
    "\n",
    "임의의 함수가 실행되는 시간을 측정하여 \"함수 실행 시간: x.xx초\" 형태로 출력하세요."
   ]
  },
  {
   "cell_type": "code",
   "execution_count": 5,
   "metadata": {},
   "outputs": [
    {
     "name": "stdout",
     "output_type": "stream",
     "text": [
      "your age: 28\n",
      "함수 실행 시간: 2.3539938926696777초\n"
     ]
    }
   ],
   "source": [
    "import time \n",
    "import datetime\n",
    "\n",
    "def timer_decorator():\n",
    "    start_time = time.time()\n",
    "    age()\n",
    "    end_time = time.time()\n",
    "    print(f\"함수 실행 시간: {end_time - start_time}초\")\n",
    "\n",
    "def age():\n",
    "    birth_year = input(\"birth year: \")\n",
    "    print(f\"your age: {datetime.datetime.now().year - int(birth_year)}\")\n",
    "\n",
    "timer_decorator()\n",
    "\n"
   ]
  }
 ],
 "metadata": {
  "kernelspec": {
   "display_name": "Python 3",
   "language": "python",
   "name": "python3"
  },
  "language_info": {
   "codemirror_mode": {
    "name": "ipython",
    "version": 3
   },
   "file_extension": ".py",
   "mimetype": "text/x-python",
   "name": "python",
   "nbconvert_exporter": "python",
   "pygments_lexer": "ipython3",
   "version": "3.9.6"
  }
 },
 "nbformat": 4,
 "nbformat_minor": 2
}
